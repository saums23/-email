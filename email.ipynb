{
 "cells": [
  {
   "cell_type": "code",
   "execution_count": null,
   "id": "5f58a92e",
   "metadata": {},
   "outputs": [],
   "source": []
  },
  {
   "cell_type": "code",
   "execution_count": null,
   "id": "7d0d8af0",
   "metadata": {},
   "outputs": [],
   "source": []
  },
  {
   "cell_type": "code",
   "execution_count": null,
   "id": "7e9ff351",
   "metadata": {},
   "outputs": [],
   "source": [
    "import smtplib\n",
    "import getpass\n",
    "password=getpass.getpass()\n",
    "from email.mime.text import MIMEText\n",
    "def send_email():\n",
    "    \n",
    "    sender_address= 'saumyashrivastava23@gmail.com'\n",
    "    \n",
    "    password=getpass.getpass()\n",
    "    subjet='Learn.Inspire.Grow.'\n",
    "    msg= 'hello everyone'\n",
    "    \n",
    "    server= smtplib.SMTP('smtp.gmail.com', 587)\n",
    "    server.starttls()\n",
    "    server.login(sender_address,password)\n",
    "    msg= MIMEText(msg)\n",
    "    msg['Subject']='Learn.Inspire.Grow.'\n",
    "    msg['From']= sender_address\n",
    "    msg['To']='saumyashrivastava23@gmail.com'\n",
    "    recipients='saumyashrivastava23@gmail.com'\n",
    "    \n",
    "    server.sendmail(sender_address,recipients,msg.as_string())\n",
    "send_email()\n"
   ]
  },
  {
   "cell_type": "code",
   "execution_count": null,
   "id": "863f9954",
   "metadata": {},
   "outputs": [],
   "source": []
  }
 ],
 "metadata": {
  "kernelspec": {
   "display_name": "Python 3",
   "language": "python",
   "name": "python3"
  },
  "language_info": {
   "codemirror_mode": {
    "name": "ipython",
    "version": 3
   },
   "file_extension": ".py",
   "mimetype": "text/x-python",
   "name": "python",
   "nbconvert_exporter": "python",
   "pygments_lexer": "ipython3",
   "version": "3.8.8"
  }
 },
 "nbformat": 4,
 "nbformat_minor": 5
}
